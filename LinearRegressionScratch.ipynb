{
  "nbformat": 4,
  "nbformat_minor": 0,
  "metadata": {
    "colab": {
      "name": "LinearRegressionScratch.ipynb",
      "provenance": [],
      "authorship_tag": "ABX9TyM5VtLkwGVSDOuMEbzd9bmR",
      "include_colab_link": true
    },
    "kernelspec": {
      "name": "python3",
      "display_name": "Python 3"
    }
  },
  "cells": [
    {
      "cell_type": "markdown",
      "metadata": {
        "id": "view-in-github",
        "colab_type": "text"
      },
      "source": [
        "<a href=\"https://colab.research.google.com/github/uankit/Linear_Model_Scratch/blob/main/LinearRegressionScratch.ipynb\" target=\"_parent\"><img src=\"https://colab.research.google.com/assets/colab-badge.svg\" alt=\"Open In Colab\"/></a>"
      ]
    },
    {
      "cell_type": "markdown",
      "metadata": {
        "id": "v6hxkO8_12XH"
      },
      "source": [
        "# **Linear Regression From Scratch**\n",
        "    1. Change the number of observations to 100,000 and see what happens.\n",
        "    2. Change the number of observations to 1,000,000 and see what happens.\n",
        "    3. Play around with the learning rate. Values like 0.0001, 0.001, 0.1, 1 are all interesting to observe. \n",
        "    4. Change the loss function. L2-norm loss (without dividing by 2) is a good way to start. \n",
        "    5. Тry with the L1-norm loss, given by the sum of the ABSOLUTE value of yj - tj. The L1-norm loss is given by:\n",
        "## $$ \\Sigma_i = |y_i-t_i| $$\n",
        "    6. Create a function f(x0,x1,x2) = 8*x0 + 2*x1 - 4*x2 + 5. Does the algorithm work in the same way?"
      ]
    },
    {
      "cell_type": "markdown",
      "metadata": {
        "id": "qLi8NoDL2cBP"
      },
      "source": [
        "### **Import the relevant libraries**"
      ]
    },
    {
      "cell_type": "code",
      "metadata": {
        "id": "y_PcUGgCUYHS"
      },
      "source": [
        "# We must always import the relevant libraries for our problem at hand. NumPy is a must for this example.\n",
        "\n",
        "import numpy as np\n",
        "\n",
        "# matplotlib for the sole purpose of visualizing the results.  \n",
        "\n",
        "import matplotlib.pyplot as plt"
      ],
      "execution_count": 136,
      "outputs": []
    },
    {
      "cell_type": "markdown",
      "metadata": {
        "id": "Ya9LTyMk2uSv"
      },
      "source": [
        "### **Generate random input data to train on**"
      ]
    },
    {
      "cell_type": "code",
      "metadata": {
        "id": "lP1oQIdvUY6c",
        "outputId": "94e80c21-0151-484f-b3ca-1ea9a5462dd4",
        "colab": {
          "base_uri": "https://localhost:8080/",
          "height": 35
        }
      },
      "source": [
        "# First, we should declare a variable containing the size of the training set we want to generate.\n",
        "\n",
        "obs = 5000\n",
        "    \n",
        "# We will work with three variables as inputs.\n",
        "# We generate them randomly, drawing from an uniform distribution.\n",
        "# The size of x0 , x1 and x2 is observations by 1. In this case: 5000 x 1.\n",
        "\n",
        "x0 = np.random.uniform(-10 , 10 , (obs,1))\n",
        "x1 = np.random.uniform(-10 , 10 , (obs,1))\n",
        "x2 = np.random.uniform(-10 , 10 , (obs,1))\n",
        "\n",
        "# Combine the two dimensions of the input into one input matrix. \n",
        "# This is the X matrix from the linear model y = x*w + b.\n",
        "# column_stack is a Numpy method, which combines two vectors into a matrix.\n",
        "\n",
        "inputs = np.column_stack((x0,x1,x2))\n",
        "print(inputs.shape)"
      ],
      "execution_count": 137,
      "outputs": [
        {
          "output_type": "stream",
          "text": [
            "(5000, 3)\n"
          ],
          "name": "stdout"
        }
      ]
    },
    {
      "cell_type": "markdown",
      "metadata": {
        "id": "RbZd2fnR3gFR"
      },
      "source": [
        "### **Generate the targets**"
      ]
    },
    {
      "cell_type": "code",
      "metadata": {
        "id": "Iw1NQwEZUZH3"
      },
      "source": [
        "# We want to \"make up\" a function, use the ML methodology, and see if the algorithm has learned it.\n",
        "# We add a small random noise to the function i.e. f(x0,x1,x2) = 8*x0 + 2*x1 - 4*x2 + 5  + <small noise>\n",
        "\n",
        "noise = np.random.uniform(-2,2,(obs,1))\n",
        "\n",
        "# Produce the targets according to the f(x0,x1,x2) = 8*x0 + 2*x1 - 4*x2 + 5  + noise definition.\n",
        "# In this way, we are basically saying: the weights should be 8 , 2 and -4, while the bias is 5.\n",
        "\n",
        "target =  8*x0 + 2*x1 - 4*x2 + 5 + noise"
      ],
      "execution_count": 138,
      "outputs": []
    },
    {
      "cell_type": "markdown",
      "metadata": {
        "id": "HkFvheM54VvJ"
      },
      "source": [
        "### **Initialize variables**"
      ]
    },
    {
      "cell_type": "code",
      "metadata": {
        "id": "eP0MFJ3bUZMs",
        "outputId": "c60d4c6f-8079-450e-c049-4eb3ad620b46",
        "colab": {
          "base_uri": "https://localhost:8080/",
          "height": 90
        }
      },
      "source": [
        "# Weights are of size k x m, where k is the number of input variables and m is the number of output variables\n",
        "\n",
        "weights = np.random.uniform(-1,1,size=(3,1))\n",
        "\n",
        "# Biases are of size 1 since there is only 1 output. The bias is a scalar.\n",
        "\n",
        "bias = np.random.uniform(-1,1,size=1)\n",
        "\n",
        "print(weights)\n",
        "print(bias)"
      ],
      "execution_count": 139,
      "outputs": [
        {
          "output_type": "stream",
          "text": [
            "[[-0.98116898]\n",
            " [ 0.75552891]\n",
            " [-0.50497357]]\n",
            "[-0.98168236]\n"
          ],
          "name": "stdout"
        }
      ]
    },
    {
      "cell_type": "markdown",
      "metadata": {
        "id": "UOGZCWpE5qS5"
      },
      "source": [
        "### **Set a learning rate**"
      ]
    },
    {
      "cell_type": "code",
      "metadata": {
        "id": "sc7zz04rUZUt"
      },
      "source": [
        "# Set some small learning rate . \n",
        "# 0.02 is going to work quite well for our example.\n",
        "\n",
        "learning_rate = 0.02"
      ],
      "execution_count": 140,
      "outputs": []
    },
    {
      "cell_type": "markdown",
      "metadata": {
        "id": "tVqxssqo6Bx9"
      },
      "source": [
        "### **Train the model**"
      ]
    },
    {
      "cell_type": "code",
      "metadata": {
        "id": "_kJUdDNf59Ww",
        "outputId": "b048b0e2-658c-47f4-eb69-5b91e88c1f8d",
        "colab": {
          "base_uri": "https://localhost:8080/",
          "height": 1000
        }
      },
      "source": [
        "# We iterate over our training dataset 100 times. That works well with a learning rate of 0.02.\n",
        "# a lower learning rate would need more iterations, while a higher learning rate would need less iterations\n",
        "\n",
        "for i in range(100):\n",
        "\n",
        "  # This is the linear model: y = xw + b equation\n",
        "\n",
        "  output = np.dot(inputs , weights)+bias\n",
        "\n",
        "  # The deltas are the differences between the outputs and the targets\n",
        "\n",
        "  deltas = output - target\n",
        "\n",
        "  # We are considering the L2-norm loss, but divided by 2.\n",
        "  # Moreover, we further divide it by the number of observations.\n",
        "  # This is simple rescaling by a constant. This doesn't change the optimization logic,\n",
        "  # as any function holding the basic property of being lower for better results, and higher for worse results\n",
        "  # can be a loss function.\n",
        "\n",
        "  loss = np.sum(deltas**2)/2/obs\n",
        "\n",
        "  # We print the loss function value at each step so we can observe whether it is decreasing as desired.\n",
        "\n",
        "  print(loss)\n",
        "\n",
        "  # Another small trick is to scale the deltas the same way as the loss function\n",
        "  # In this way our learning rate is independent of the number of samples (observations).\n",
        "  # Again, this doesn't change anything in principle, it simply makes it easier to pick a single learning rate\n",
        "  # that can remain the same if we change the number of training samples (observations).\n",
        "\n",
        "  deltas_scaled = deltas/obs\n",
        "\n",
        "  # Finally, we must apply the gradient descent update rules\n",
        "  \n",
        "  weights = weights - learning_rate*np.dot(inputs.T , deltas_scaled)\n",
        "  bias = bias - learning_rate * np.sum(deltas_scaled)"
      ],
      "execution_count": 141,
      "outputs": [
        {
          "output_type": "stream",
          "text": [
            "1570.0435198914793\n",
            "197.1737793403677\n",
            "38.045350973824455\n",
            "19.049338563118418\n",
            "16.290633031222743\n",
            "15.43666551575106\n",
            "14.825085376834442\n",
            "14.261983825833624\n",
            "13.723998776079856\n",
            "13.207637633552821\n",
            "12.711753012976608\n",
            "12.235500389846338\n",
            "11.778098733726418\n",
            "11.33880144316067\n",
            "10.916891879088482\n",
            "10.511681815739355\n",
            "10.122510273485382\n",
            "9.748742435434668\n",
            "9.389768611306023\n",
            "9.045003242830203\n",
            "8.71388394857847\n",
            "8.395870606604815\n",
            "8.09044447339868\n",
            "7.797107337710276\n",
            "7.515380707868133\n",
            "7.244805031263325\n",
            "6.98493894472697\n",
            "6.735358554578472\n",
            "6.4956567451699625\n",
            "6.26544251479903\n",
            "6.044340337906567\n",
            "5.83198955251934\n",
            "5.628043771937973\n",
            "5.43217031971082\n",
            "5.244049686971984\n",
            "5.063375011258303\n",
            "4.889851575955155\n",
            "4.723196329554604\n",
            "4.563137423941597\n",
            "4.409413770955248\n",
            "4.261774616501691\n",
            "4.119979131523871\n",
            "3.983796019161078\n",
            "3.853003137457415\n",
            "3.7273871370037517\n",
            "3.6067431129220116\n",
            "3.4908742706243028\n",
            "3.379591604801462\n",
            "3.272713591117497\n",
            "3.1700658901070495\n",
            "3.0714810627927447\n",
            "2.9767982975586347\n",
            "2.885863147834281\n",
            "2.7985272801613763\n",
            "2.7146482322321535\n",
            "2.6340891805048354\n",
            "2.5567187170169694\n",
            "2.4824106350327115\n",
            "2.4110437231743522\n",
            "2.3425015677022447\n",
            "2.276672362620676\n",
            "2.21344872729986\n",
            "2.1527275313166028\n",
            "2.0944097262279295\n",
            "2.0384001840031973\n",
            "1.984607541851209\n",
            "1.932944053189201\n",
            "1.8833254445105634\n",
            "1.8356707779178651\n",
            "1.7899023190969106\n",
            "1.7459454105164987\n",
            "1.7037283496470088\n",
            "1.6631822719992209\n",
            "1.6242410387925177\n",
            "1.5868411290692703\n",
            "1.5509215360794448\n",
            "1.5164236677663248\n",
            "1.483291251191164\n",
            "1.451470240740718\n",
            "1.4209087299680085\n",
            "1.3915568669225267\n",
            "1.3633667728317003\n",
            "1.3362924640009948\n",
            "1.310289776805322\n",
            "1.285316295649302\n",
            "1.2613312837789143\n",
            "1.2382956168316999\n",
            "1.216171719017076\n",
            "1.1949235018226914\n",
            "1.174516305146827\n",
            "1.1549168407608255\n",
            "1.136093138009312\n",
            "1.1180144916596488\n",
            "1.1006514118155413\n",
            "1.0839755758131233\n",
            "1.0679597820209838\n",
            "1.0525779054688815\n",
            "1.037804855232672\n",
            "1.0236165335059697\n",
            "1.009989796291811\n"
          ],
          "name": "stdout"
        }
      ]
    },
    {
      "cell_type": "markdown",
      "metadata": {
        "id": "kG9J64Sd7PjW"
      },
      "source": [
        "### **Print weights and biases and see if we have worked correctly.**"
      ]
    },
    {
      "cell_type": "code",
      "metadata": {
        "id": "cAdK9jihUZcz",
        "outputId": "07dd4b8a-c519-46f5-efb6-c68f1e6c2dfc",
        "colab": {
          "base_uri": "https://localhost:8080/",
          "height": 72
        }
      },
      "source": [
        "# We print the weights and the biases, so we can see if they have converged to what we wanted.\n",
        "\n",
        "print(weights,bias)\n",
        "\n",
        "# Note that they may be convergING. So more iterations are needed."
      ],
      "execution_count": 142,
      "outputs": [
        {
          "output_type": "stream",
          "text": [
            "[[ 7.9956069 ]\n",
            " [ 1.99705419]\n",
            " [-4.00000549]] [4.19334287]\n"
          ],
          "name": "stdout"
        }
      ]
    },
    {
      "cell_type": "markdown",
      "metadata": {
        "id": "9pERMcvH8P28"
      },
      "source": [
        "```\n",
        "Here the weights are as follows : 7.99 , 1.99 , -4.00 , 4.19 \n",
        "which is very close to our desired target equation weights : 8.00 , 2.00 , -4.00 , 5.00\n",
        "```\n",
        "\n"
      ]
    },
    {
      "cell_type": "markdown",
      "metadata": {
        "id": "Q8OwiZWx7gCP"
      },
      "source": [
        "### **Plot last outputs vs targets**\n",
        "Since they are the last ones at the end of the training, they represent the final model accuracy. <br/>\n",
        "The closer this plot is to a 45 degree line, the closer target and output values are."
      ]
    },
    {
      "cell_type": "code",
      "metadata": {
        "id": "xp-pXt1WUZfp",
        "outputId": "9ab83f86-e578-40bd-cbc4-46b72b43d9de",
        "colab": {
          "base_uri": "https://localhost:8080/",
          "height": 281
        }
      },
      "source": [
        "# We print the outputs and the targets in order to see if they have a linear relationship.\n",
        "\n",
        "plt.plot(output,target)\n",
        "plt.xlabel('outputs')\n",
        "plt.ylabel('targets')\n",
        "plt.show()"
      ],
      "execution_count": 143,
      "outputs": [
        {
          "output_type": "display_data",
          "data": {
            "image/png": "[encoded data removed]",
            "text/plain": [
              "<Figure size 432x288 with 1 Axes>"
            ]
          },
          "metadata": {
            "tags": [],
            "needs_background": "light"
          }
        }
      ]
    }
  ]
}